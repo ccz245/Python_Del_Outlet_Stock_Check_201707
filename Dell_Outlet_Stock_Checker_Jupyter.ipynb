{
 "cells": [
  {
   "cell_type": "markdown",
   "metadata": {},
   "source": [
    "# Objective"
   ]
  },
  {
   "cell_type": "markdown",
   "metadata": {},
   "source": [
    "__Purpose__:\n",
    "- check dell outlet stock website\n",
    "- filter for 15inch screen, i7 7..H. Processor, 3840x2160 screen, (scratch and dent?), outlet price < 1200\n",
    "- send result to personal email"
   ]
  },
  {
   "cell_type": "markdown",
   "metadata": {},
   "source": [
    "Dell outlet URL<br>\n",
    "\n",
    "Active filters:\n",
    "- XPS 15 9560\n",
    "- i7\n",
    "- 15-16inch\n",
    "- 3840x2160"
   ]
  },
  {
   "cell_type": "code",
   "execution_count": 2,
   "metadata": {
    "collapsed": true
   },
   "outputs": [],
   "source": [
    "outletURLPage1 = \"http://outlet.euro.dell.com/Online/InventorySearch.aspx?c=uk&cs=ukdfh1&l=en&s=dfh&brandid=7&sign=PXhcOSHtr1T4IOw%2fPR7UdQQtu8ahqH%2bNHH7w97RBh24Yb9ytkYEwHZxQv9U80NfLyDpcxEbPA%2bQ4gJotV48WzamWydAzuCBajsdD24yQdkrRWEd0Afm6GvzpUjsdxJe3QVbHjM%2fDzGzVL5PmDUJ26kUrHxrxG3PaSE97ZZ1TESjW%2fExCZjGJtWMImzIJrfMgNSuVc8hA0%2b%2fw3ZVBonDQsW6XaFlvfbawyudtMeLZ6g8MZVlfcCzO%2bND3DYnPDPILCHs12ssROc%2fPc%2fFW24ZEamIN1MGhMTYJ6NXA1WEem161c0A6aF98wKHdZxTp3kbE46wKm%2bthFJnCMcpbz5%2btWYu7up1Ky6JGB4%2bIlqaJ%2bVUfh6UK5i9aPXMIHNXULO7xCYvu69R7sdQ%3d\"\n",
    "outletURLPage2 = \"http://outlet.euro.dell.com/Online/InventorySearch.aspx?c=uk&cs=ukdfh1&l=en&s=dfh&brandid=7&sign=PXhcOSHtr1T4IOw%2fPR7UdUbIb1XeAVkg7mqbVtWGF38z5d%2frJiiyf6HqilpYOtgwhuGdJHhtznNyEPM%2bNJySPYY%2bdIYXEh8VwZMPo2V%2bTwZZTv6FkWzNiUiC9qe9eWdtHTNW7E7GxowZnLxEzF2LyabINL9vicwkY9uENvNNsp1X4NuXUtHmKM%2bjQ5Jh3Ya7ENnWnbqbf8wwrf1kE5FD4D8iff70kzAkWbVq72DAntplNqL4A9auTP3GV%2bTR6QZRbEG6%2bz%2bryyovBb2YVzKlVzmhkxaxFd64%2bPFNhXnAb%2fgMXH1O6LsCgWF56qvfA67UgZKsXi2JnRmz8Gzz34i6HwF5b4OOsDmsxVVz4StwovV16QDmkEeK1t9btUtq1aiq\""
   ]
  },
  {
   "cell_type": "markdown",
   "metadata": {},
   "source": [
    "__References__:\n",
    "- Coursera: Python for Everyone Series: Using Python to Access Web Data\n",
    "    - https://www.coursera.org/learn/python-network-data/home/welcome\n",
    "    - https://www.py4e.com/html3/12-network\n",
    "    \n"
   ]
  },
  {
   "cell_type": "markdown",
   "metadata": {
    "collapsed": true
   },
   "source": [
    "create output file to hold results"
   ]
  },
  {
   "cell_type": "code",
   "execution_count": 3,
   "metadata": {
    "collapsed": true
   },
   "outputs": [],
   "source": [
    "from datetime import datetime\n",
    "\n",
    "run_time = datetime.now().strftime(\"%Y-%m-%d-%H-%M-%S\")\n",
    "output_file = \"C:\\\\Users\\\\charl\\\\Google Drive\\\\10. Coding\\\\201707 Dell Outlet Stock Check with Python\\\\results\\\\\" + str(run_time) + \".txt\"\n",
    "# a+ will append after creating file (if doesn't exist)\n",
    "output = open(output_file, \"a+\")"
   ]
  },
  {
   "cell_type": "markdown",
   "metadata": {},
   "source": [
    "### get html string back from dell outlet website"
   ]
  },
  {
   "cell_type": "markdown",
   "metadata": {},
   "source": [
    "reading html using decode then print one line at a time (more human readable)"
   ]
  },
  {
   "cell_type": "code",
   "execution_count": 4,
   "metadata": {},
   "outputs": [
    {
     "ename": "ImportError",
     "evalue": "No module named request",
     "output_type": "error",
     "traceback": [
      "\u001b[1;31m---------------------------------------------------------------------------\u001b[0m",
      "\u001b[1;31mImportError\u001b[0m                               Traceback (most recent call last)",
      "\u001b[1;32m<ipython-input-4-7f98ede5f922>\u001b[0m in \u001b[0;36m<module>\u001b[1;34m()\u001b[0m\n\u001b[1;32m----> 1\u001b[1;33m \u001b[1;32mfrom\u001b[0m \u001b[0murllib\u001b[0m\u001b[1;33m.\u001b[0m\u001b[0mrequest\u001b[0m \u001b[1;32mimport\u001b[0m \u001b[0murlopen\u001b[0m\u001b[1;33m\u001b[0m\u001b[0m\n\u001b[0m\u001b[0;32m      2\u001b[0m \u001b[1;32mfrom\u001b[0m \u001b[0mdatetime\u001b[0m \u001b[1;32mimport\u001b[0m \u001b[0mdatetime\u001b[0m\u001b[1;33m\u001b[0m\u001b[0m\n\u001b[0;32m      3\u001b[0m \u001b[1;33m\u001b[0m\u001b[0m\n\u001b[0;32m      4\u001b[0m \u001b[1;31m# html is a HTTPResponse object\u001b[0m\u001b[1;33m\u001b[0m\u001b[1;33m\u001b[0m\u001b[0m\n\u001b[0;32m      5\u001b[0m \u001b[0mhtml1\u001b[0m \u001b[1;33m=\u001b[0m \u001b[0murlopen\u001b[0m\u001b[1;33m(\u001b[0m\u001b[0moutletURLPage1\u001b[0m\u001b[1;33m)\u001b[0m\u001b[1;33m\u001b[0m\u001b[0m\n",
      "\u001b[1;31mImportError\u001b[0m: No module named request"
     ]
    }
   ],
   "source": [
    "from urllib.request import urlopen\n",
    "from datetime import datetime\n",
    "\n",
    "# html is a HTTPResponse object\n",
    "html1 = urlopen(outletURLPage1)\n",
    "html2 = urlopen(outletURLPage2)\n",
    "\n",
    "# creat a list of offered products\n",
    "results_string = []\n",
    "\n",
    "# convert html object into string using decode() then print each line\n",
    "for line in html1:\n",
    "    #print(line.decode().strip())\n",
    "    results_string.append(line.decode().strip())\n",
    "\n",
    "for line in html2:\n",
    "    #print(line.decode().strip())\n",
    "    results_string.append(line.decode().strip()) \n",
    "    \n"
   ]
  },
  {
   "cell_type": "markdown",
   "metadata": {},
   "source": [
    "### Parsing html string using regex"
   ]
  },
  {
   "cell_type": "code",
   "execution_count": 5,
   "metadata": {
    "collapsed": true,
    "scrolled": false
   },
   "outputs": [],
   "source": [
    "from re import search\n",
    "\n",
    "# list to store all the offers, each offer's details are stored as a dictionary within the master list\n",
    "offers = []\n",
    "# index counter for the offers list\n",
    "j = -1\n",
    "# offer class\n",
    "class Offer():\n",
    "    def __init__(self, condition):\n",
    "        self.condition = condition\n",
    "\n",
    "\n",
    "for i in range(len(results_string)):\n",
    "    if search(r'<div class=\"fl-item-condition\">.*?</div>',results_string[i]):\n",
    "        condition = search(r'<div class=\"fl-item-condition\">(.*?)</div>',results_string[i]).group(1)\n",
    "        if condition == \"\":\n",
    "            condition = \"Certified Refurbished\"\n",
    "        # create a new offer object to capture details of the new offer\n",
    "        j += 1\n",
    "        offers.append(Offer(condition))\n",
    "        \n",
    "    if search(r'<lft>Outlet Price</lft><rgt>.+?</rgt>',results_string[i]):\n",
    "        price = search(r'<lft>Outlet Price</lft><rgt>(.+?)</rgt>',results_string[i]).group(1)\n",
    "        setattr(offers[j], \"price\", price)\n",
    "        \n",
    "    if search(r'<lft>Outlet Price From</lft><rgt>.+?</rgt>',results_string[i]):\n",
    "        price = search(r'<lft>Outlet Price From</lft><rgt>(.+?)</rgt>',results_string[i]).group(1)\n",
    "        setattr(offers[j], \"price\", price)    \n",
    "        \n",
    "    if search(r'<div class=\"fl-config-desc-container\">',results_string[i]):\n",
    "        # by observation, model name is 2 lines below the search line above\n",
    "        model = search(r'<div>(.+?)</div>',results_string[i+2]).group(1)\n",
    "        setattr(offers[j], \"model\", model)\n",
    "        \n",
    "        # by observation, model name is 2 lines below the search line above\n",
    "        processor = search(r'<div>.+?i7-(.+?)</div>',results_string[i+4]).group(1)\n",
    "        setattr(offers[j], \"processor\", processor)\n",
    "        \n",
    "        # by observation, model name is 2 lines below the search line above\n",
    "        memory = search(r'<div>(.+?)</div>',results_string[i+8]).group(1)\n",
    "        setattr(offers[j], \"memory\", memory)\n",
    "        \n",
    "    if search(r'<div>.+?B.+?SSD</div>',results_string[i]):\n",
    "        SSD = search(r'<div>(.+?B.+?)SSD</div>',results_string[i]).group(1)\n",
    "        setattr(offers[j], \"SSD1\", SSD)\n",
    "        \n",
    "    if search(r'<div>.+?B.+?Solid State.+?</div>',results_string[i]):\n",
    "        SSD = search(r'<div>(.+?B).+?Solid State.+?</div>',results_string[i]).group(1)\n",
    "        setattr(offers[j], \"SSD2\", SSD)\n",
    "        \n",
    "    if search(r'<div>(.+?B).+?Hard Drive.+?</div>',results_string[i]):\n",
    "        HD = search(r'<div>(.+?B).+?Hard Drive.+?</div>',results_string[i]).group(1)\n",
    "        setattr(offers[j], \"HD\", HD)\n",
    "        \n",
    "    if search(r'<div>.+?cell(.+?)Battery</div>',results_string[i]):\n",
    "        battery = search(r'<div>.+?cell\\s(.+?) Battery</div>',results_string[i]).group(1)\n",
    "        setattr(offers[j], \"battery\", battery)\n",
    "\n",
    "\n",
    "\n",
    "\n",
    "\n",
    "    "
   ]
  },
  {
   "cell_type": "markdown",
   "metadata": {},
   "source": [
    "## Output Results"
   ]
  },
  {
   "cell_type": "code",
   "execution_count": 6,
   "metadata": {
    "collapsed": true
   },
   "outputs": [],
   "source": [
    "output.write(\"run time: \" + str(run_time))\n",
    "output.write(\"\\n\")\n",
    "\n",
    "num_offers = len(offers)\n",
    "output.write(\"number of offers found: \"+str(num_offers))\n",
    "output.write(\"\\n\")\n",
    "\n",
    "# second offers list only containing 7xxx procesor\n",
    "offers_7 = []\n",
    "for i in range(num_offers):\n",
    "    if search(r'^7',offers[i].processor):\n",
    "        offers_7.append(offers[i])\n",
    "        \n",
    "num_offers_7 = len(offers_7)\n",
    "output.write(\"number of 7xxx processor offers found: \"+str(num_offers_7))\n",
    "output.write(\"\\n\")\n",
    "\n",
    "output.write(\"\\n\")\n",
    "output.write(\"======================== offers with 7xxx processor: ===========================\")  \n",
    "output.write(\"\\n\")\n",
    "\n",
    "for i in range(num_offers_7):\n",
    "    output.write(offers_7[i].model)\n",
    "    output.write(\"\\n\")\n",
    "    output.write(offers_7[i].processor)\n",
    "    output.write(\"\\n\")\n",
    "    \n",
    "    storage = \"\"\n",
    "    if hasattr(offers_7[i], \"SSD1\"):\n",
    "        storage = storage + offers_7[i].SSD1 + \"SSD\"\n",
    "    if hasattr(offers_7[i], \"SSD2\"):\n",
    "        storage = storage + offers_7[i].SSD2 + \"SSD\"\n",
    "    if hasattr(offers_7[i], \"HD\"):\n",
    "        storage = storage + offers_7[i].HD + \"HD\"\n",
    "    storage.strip()\n",
    "    output.write(storage)\n",
    "    output.write(\"\\n\")\n",
    "   \n",
    "    output.write(offers_7[i].price)\n",
    "    output.write(\"\\n\")\n",
    "    output.write(offers_7[i].condition)\n",
    "    output.write(\"\\n\")\n",
    "    output.write(offers_7[i].memory)\n",
    "    output.write(\"\\n\")\n",
    "    output.write(\"\\n\")\n",
    "    \n",
    "\n",
    "output.write(\"================================== all offers ====================================\")\n",
    "output.write(\"\\n\")\n",
    "\n",
    "for i in range(num_offers):\n",
    "    output.write(offers[i].model)\n",
    "    output.write(\"\\n\")\n",
    "    output.write(offers[i].processor)\n",
    "    output.write(\"\\n\")\n",
    "    \n",
    "    storage = \"\"\n",
    "    if hasattr(offers[i], \"SSD1\"):\n",
    "        storage = storage + offers[i].SSD1 + \"SSD\"\n",
    "    if hasattr(offers[i], \"SSD2\"):\n",
    "        storage = storage + offers[i].SSD2 + \"SSD\"\n",
    "    if hasattr(offers[i], \"HD\"):\n",
    "        storage = storage + offers[i].HD + \"HD\"\n",
    "    storage.strip()\n",
    "    output.write(storage)\n",
    "    output.write(\"\\n\")\n",
    "   \n",
    "    output.write(offers[i].price)\n",
    "    output.write(\"\\n\")\n",
    "    output.write(offers[i].condition)\n",
    "    output.write(\"\\n\")\n",
    "    output.write(offers[i].memory)\n",
    "    output.write(\"\\n\")\n",
    "    output.write(\"\\n\")\n",
    "\n",
    "output.close()"
   ]
  },
  {
   "cell_type": "code",
   "execution_count": null,
   "metadata": {
    "collapsed": true
   },
   "outputs": [],
   "source": []
  },
  {
   "cell_type": "markdown",
   "metadata": {},
   "source": []
  },
  {
   "cell_type": "markdown",
   "metadata": {},
   "source": []
  },
  {
   "cell_type": "markdown",
   "metadata": {},
   "source": []
  },
  {
   "cell_type": "code",
   "execution_count": null,
   "metadata": {
    "collapsed": true
   },
   "outputs": [],
   "source": []
  },
  {
   "cell_type": "markdown",
   "metadata": {
    "collapsed": true
   },
   "source": [
    "# Send results to Email"
   ]
  },
  {
   "cell_type": "code",
   "execution_count": null,
   "metadata": {
    "collapsed": true
   },
   "outputs": [],
   "source": [
    "import win32com.client\n",
    "olMailItem = 0x0\n",
    "obj = win32com.client.Dispatch(\"Outlook.Application\")\n",
    "newMail = obj.CreateItem(olMailItem)\n",
    "newMail.Subject = \"My Subject\"\n",
    "newMail.Body = \"My Body\"\n",
    "newMail.To  = \"charleszhao@hotmail.co.uk\"\n",
    "newMail.Send()"
   ]
  },
  {
   "cell_type": "code",
   "execution_count": null,
   "metadata": {
    "collapsed": true
   },
   "outputs": [],
   "source": []
  },
  {
   "cell_type": "markdown",
   "metadata": {
    "collapsed": true
   },
   "source": [
    "### Target html section containing key information"
   ]
  },
  {
   "cell_type": "markdown",
   "metadata": {
    "collapsed": true
   },
   "source": [
    "typical per product string returned (naturally readable in jupyter as it's writen in xml)"
   ]
  },
  {
   "cell_type": "markdown",
   "metadata": {},
   "source": [
    "<div class=\" \">\n",
    "<ul>\n",
    "<li>\n",
    "<a href=\"../Online/SecondaryInventorySearch.aspx?c=uk&cs=ukdfh1&l=en&s=dfh&sign=PXhcOSHtr1T4IOw%2fPR7UdfocNBLlHp1qPdu4uUw4j%2bDERNVxM9c6fzEuhK63ccjlrxD%2f65uY%2bsMmxx1oBLb%2fOmJu2g7W%2b4GPVrOzhlw4eVCOaJiBXlvlCGNci7ThcENUBpZzSen36vd5nRd0weV7%2fZF0zclRa9lfZw1%2fgFt%2bKPCHdFBab32e7wm2YB6AvXYfdNMuPKK0ZLHBRcizU7AB14ygwmRp3aERO0Rx7qV2KaL6HGXuv6J9QA%3d%3d\">\n",
    "<img class=\"image-centered widthMax216 fl-config-img-head\" src='http://i.dell.com/sites/imagecontent/consumer/merchandizing/en/PublishingImages/Outlet_Stockroom_Images/XPS_15_9550.jpeg' alt='XPS 15 - 9550' title='XPS 15 - 9550'>\n",
    "</a>\n",
    "</li>\n",
    "<li>\n",
    "<h4 class=\"fl-sub-head\">\n",
    "<a class=\"fl-config-caption\" href=\"../Online/SecondaryInventorySearch.aspx?c=uk&cs=ukdfh1&l=en&s=dfh&sign=PXhcOSHtr1T4IOw%2fPR7UdfocNBLlHp1qPdu4uUw4j%2bDERNVxM9c6fzEuhK63ccjlrxD%2f65uY%2bsMmxx1oBLb%2fOmJu2g7W%2b4GPVrOzhlw4eVCOaJiBXlvlCGNci7ThcENUBpZzSen36vd5nRd0weV7%2fZF0zclRa9lfZw1%2fgFt%2bKPCHdFBab32e7wm2YB6AvXYfdNMuPKK0ZLHBRcizU7AB14ygwmRp3aERO0Rx7qV2KaL6HGXuv6J9QA%3d%3d\">\n",
    "XPS 15 - 9550<br/>£1,029.26\n",
    "</a>\n",
    "</h4>\n",
    "<span>1 in stock</span>\n",
    "</li>\n",
    "<li>\n",
    "<div class=\"fl-item-condition\">Scratch and Dent</div>\n",
    "<div class=\"fl-config-desc-container\">\n",
    "\n",
    "<div>XPS 15 - 9550</div>\n",
    "\n",
    "<div>Processor: Intel&#174; Core™ i7-6700HQ (4 Core,6M Cache, up to 3.5GHz, 45W)</div>\n",
    "\n",
    "<div>Windows 10 Home (64bit)</div>\n",
    "\n",
    "<div>16GB (2x8GB) 2133MHz DDR4 Non-ECC</div>\n",
    "\n",
    "<div>512GB PCIe Solid State Drive</div>\n",
    "\n",
    "<div>2 GB GDDR5 Nvidia&#174; GeForce&#174; GTX 960M</div>\n",
    "\n",
    "<div>Software</div>\n",
    "\n",
    "<div>Dell Wireless-1830 802.11ac, 3x3,2.4/5GHz + Bluetooth 4.1</div>\n",
    "\n",
    "<div>Power Cord : 250V</div>\n",
    "\n",
    "<div>Primary 6-cell 84W/HR Battery</div>\n",
    "\n",
    "<div>15.6inch 4K Ultra HD (3840 x 2160) &#160;InfinityEdge Touch Display</div>\n",
    "\n",
    "<div>Internal Qwerty Backlit Keyboard</div>\n",
    "\n",
    "</div>\n",
    "</li>\n",
    "<li>\n",
    "<div class=\"fl-line-aaa\"></div>\n",
    "</li>\n",
    "<li>\n",
    "<lft>Outlet Price</lft><rgt>£1,029.26</rgt>\n",
    "</li>\n",
    "<li>\n",
    "<div class=\"fl-line-aaa\"></div>\n",
    "</li>\n",
    "<li>\n",
    "<a href=\"Handler/SecondaryLikeConfigHandler.ashx?c=uk&cs=ukdfh1&l=en&s=dfh&sign=CrZnLRo%2faTdtpio9U2lfpWlIEPp77pPLdKpMMr50ol64LjcegAITQK0CejEOj9OGlT34dd7jcBN%2bMTEc73m3C2IVW%2fPNtvMc%2b3kLl%2fPLfWXitALDjlp%2bgBvxJDNAjGIXJXbaW8zOv%2fhRMd8HhpsgXTq4J%2bs8uavTbMlpF%2bAnFf8igKc5VbYACI%2fAhUrbPjvcIhbbl2o5xHfebVn%2b2bIVqrPEzwzbF0zDQRyd3HgQpqFPCrw8cTzIVN%2biY6Jk7fWJ\" class=\"fl-link-button\">Add to Cart</a>\n",
    "</li>\n",
    "</ul>\n",
    "</div>"
   ]
  },
  {
   "cell_type": "markdown",
   "metadata": {
    "collapsed": true
   },
   "source": [
    "# Send cmd from python script"
   ]
  },
  {
   "cell_type": "markdown",
   "metadata": {
    "collapsed": true
   },
   "source": []
  },
  {
   "cell_type": "code",
   "execution_count": null,
   "metadata": {
    "collapsed": true
   },
   "outputs": [],
   "source": [
    "import subprocess\n",
    "\n",
    "script_folder = \"C:\\\\Users\\\\charl\\\\Google Drive\\\\10. Coding\\\\201707 Dell Outlet Stock Check with Python\\\\\"\n",
    "subprocess.call(['py','-3',script_folder + 'Dell_Outlet_Stock_Checker_v1.py'])\n",
    "subprocess.call(['py','-2',script_folder + 'Send_Email_v1.py'])"
   ]
  },
  {
   "cell_type": "code",
   "execution_count": null,
   "metadata": {
    "collapsed": true
   },
   "outputs": [],
   "source": []
  },
  {
   "cell_type": "markdown",
   "metadata": {},
   "source": [
    "# Reading from results"
   ]
  },
  {
   "cell_type": "markdown",
   "metadata": {},
   "source": [
    "open(file,mode) is mode is \"rb\" then will read in bytes without decoding, use \"r\" for read only"
   ]
  },
  {
   "cell_type": "code",
   "execution_count": 8,
   "metadata": {},
   "outputs": [
    {
     "name": "stdout",
     "output_type": "stream",
     "text": [
      "run time: 2017-07-23-19-13-55\n",
      "number of offers found: 11\n",
      "number of 7xxx processor offers found: 5\n",
      "\n",
      "======================== offers with 7xxx processor: ===========================\n",
      "XPS 15 - 9560\n",
      "7700HQ (Quad Core,up to 3.8GHz, 6MB Cache, 45W)\n",
      "512GBSSD\n",
      "£1,259.32\n",
      "Certified Refurbished\n",
      "16GB DDR4 SDRAM (2x8GB) 2400MHz Non-ECC\n",
      "\n",
      "XPS 15 - 9560\n",
      "7700HQ (Quad Core,up to 3.8GHz, 6MB Cache, 45W)\n",
      "512GBSSD\n",
      "£1,265.32\n",
      "Certified Refurbished\n",
      "16GB DDR4 SDRAM (2x8GB) 2400MHz Non-ECC\n",
      "\n",
      "XPS 15 - 9560\n",
      "7700HQ (Quad Core,up to 3.8GHz, 6MB Cache, 45W)\n",
      "512GBSSD\n",
      "£1,285.33\n",
      "Certified Refurbished\n",
      "16GB DDR4 SDRAM (2x8GB) 2400MHz Non-ECC\n",
      "\n",
      "XPS 15 - 9560\n",
      "7700HQ (Quad Core,up to 3.8GHz, 6MB Cache, 45W)\n",
      "1TBSSD\n",
      "£1,489.38\n",
      "Certified Refurbished\n",
      "32GB (2x16GB) DDR4 SDRAM 2400MHz Non-ECC\n",
      "\n",
      "XPS 15 - 9560\n",
      "7700HQ (Quad Core,up to 3.8GHz, 6MB Cache, 45W)\n",
      "1TBSSD\n",
      "£1,515.39\n",
      "Certified Refurbished\n",
      "32GB (2x16GB) DDR4 SDRAM 2400MHz Non-ECC\n",
      "\n",
      "================================== all offers ====================================\n",
      "XPS 15 - 9550\n",
      "6700HQ (4 Core,6M Cache, up to 3.5GHz, 45W)\n",
      "32 GB mSATA SSD1 TBHD\n",
      "£959.24\n",
      "Certified Refurbished\n",
      "16GB (2x8GB) 2133MHz DDR4 Non-ECC\n",
      "\n",
      "XPS 15 - 9550\n",
      "6700HQ (4 Core,6M Cache, up to 3.5GHz, 45W)\n",
      "512GBSSD\n",
      "£1,029.26\n",
      "Certified Refurbished\n",
      "16GB (2x8GB) 2133MHz DDR4 Non-ECC\n",
      "\n",
      "XPS 15 - 9550\n",
      "6700HQ (4 Core,6M Cache, up to 3.5GHz, 45W)\n",
      "32 GB mSATA SSD1 TBHD\n",
      "£1,045.27\n",
      "Certified Refurbished\n",
      "16GB (2x8GB) 2133MHz DDR4 Non-ECC\n",
      "\n",
      "XPS 15 - 9550\n",
      "6700HQ (4 Core,6M Cache, up to 3.5GHz, 45W)\n",
      "1TBSSD\n",
      "£1,155.29\n",
      "Certified Refurbished\n",
      "16GB (2x8GB) 2133MHz DDR4 Non-ECC\n",
      "\n",
      "XPS 15 - 9550\n",
      "6700HQ (4 Core,6M Cache, up to 3.5GHz, 45W)\n",
      "1TBSSD\n",
      "£1,219.31\n",
      "Certified Refurbished\n",
      "32 GB DDR4 Non- ECC 2133Mhz (16GBx2)\n",
      "\n",
      "XPS 15 - 9560\n",
      "7700HQ (Quad Core,up to 3.8GHz, 6MB Cache, 45W)\n",
      "512GBSSD\n",
      "£1,259.32\n",
      "Certified Refurbished\n",
      "16GB DDR4 SDRAM (2x8GB) 2400MHz Non-ECC\n",
      "\n",
      "XPS 15 - 9560\n",
      "7700HQ (Quad Core,up to 3.8GHz, 6MB Cache, 45W)\n",
      "512GBSSD\n",
      "£1,265.32\n",
      "Certified Refurbished\n",
      "16GB DDR4 SDRAM (2x8GB) 2400MHz Non-ECC\n",
      "\n",
      "XPS 15 - 9560\n",
      "7700HQ (Quad Core,up to 3.8GHz, 6MB Cache, 45W)\n",
      "512GBSSD\n",
      "£1,285.33\n",
      "Certified Refurbished\n",
      "16GB DDR4 SDRAM (2x8GB) 2400MHz Non-ECC\n",
      "\n",
      "XPS 15 - 9550\n",
      "6700HQ (4 Core,6M Cache, up to 3.5GHz, 45W)\n",
      "1TBSSD\n",
      "£1,329.34\n",
      "Certified Refurbished\n",
      "32 GB DDR4 Non- ECC 2133Mhz (16GBx2)\n",
      "\n",
      "XPS 15 - 9560\n",
      "7700HQ (Quad Core,up to 3.8GHz, 6MB Cache, 45W)\n",
      "1TBSSD\n",
      "£1,489.38\n",
      "Certified Refurbished\n",
      "32GB (2x16GB) DDR4 SDRAM 2400MHz Non-ECC\n",
      "\n",
      "XPS 15 - 9560\n",
      "7700HQ (Quad Core,up to 3.8GHz, 6MB Cache, 45W)\n",
      "1TBSSD\n",
      "£1,515.39\n",
      "Certified Refurbished\n",
      "32GB (2x16GB) DDR4 SDRAM 2400MHz Non-ECC\n",
      "\n",
      "\n"
     ]
    }
   ],
   "source": [
    "content = open(r'C:\\Users\\charl\\Google Drive\\10. Coding\\201707 Dell Outlet Stock Check with Python\\results\\2017-07-23-19-13-55.txt', 'r').read()\n",
    "\n",
    "type(content)\n",
    "\n",
    "print(content)"
   ]
  },
  {
   "cell_type": "code",
   "execution_count": null,
   "metadata": {
    "collapsed": true
   },
   "outputs": [],
   "source": []
  },
  {
   "cell_type": "markdown",
   "metadata": {
    "collapsed": true
   },
   "source": [
    "# Scheduling work at Interval"
   ]
  },
  {
   "cell_type": "code",
   "execution_count": null,
   "metadata": {
    "collapsed": true
   },
   "outputs": [],
   "source": [
    "import subprocess\n",
    "import time\n",
    "from datetime import datetime\n",
    "\n",
    "def run(run_interval):\n",
    "    start_time = time.time()\n",
    "    run_time = datetime.now()\n",
    "\n",
    "    interval_min = run_interval\n",
    "\n",
    "    output_file = scan()\n",
    "    email_results(output_file)\n",
    "\n",
    "    while True:\n",
    "      print(\"scan completed at \" + str(run_time))\n",
    "      print(\"next scan scheduled in \" + str(interval_min) + \" mins\")\n",
    "      print\n",
    "      time.sleep(60.0 * interval_min - (time.time() - start_time))\n",
    "\n",
    "run(1)"
   ]
  },
  {
   "cell_type": "markdown",
   "metadata": {
    "collapsed": true
   },
   "source": [
    "simple test"
   ]
  },
  {
   "cell_type": "code",
   "execution_count": 4,
   "metadata": {},
   "outputs": [
    {
     "name": "stdout",
     "output_type": "stream",
     "text": [
      "54.99178910255432\n",
      "time is up\n"
     ]
    }
   ],
   "source": [
    "import time\n",
    "\n",
    "start_time = time.time()\n",
    "time.sleep(5)\n",
    "\n",
    "time_taken = time.time()-start_time\n",
    "target_interval = 60.0 * 1\n",
    "time_until_next = target_interval - time_taken\n",
    "\n",
    "#time.sleep(target_interval - time_taken)\n",
    "\n",
    "print(time_until_next)\n",
    "\n",
    "time.sleep(time_until_next)\n",
    "\n",
    "print(\"time is up\")"
   ]
  },
  {
   "cell_type": "code",
   "execution_count": null,
   "metadata": {
    "collapsed": true
   },
   "outputs": [],
   "source": []
  },
  {
   "cell_type": "code",
   "execution_count": null,
   "metadata": {
    "collapsed": true
   },
   "outputs": [],
   "source": []
  },
  {
   "cell_type": "code",
   "execution_count": null,
   "metadata": {
    "collapsed": true
   },
   "outputs": [],
   "source": []
  },
  {
   "cell_type": "code",
   "execution_count": null,
   "metadata": {
    "collapsed": true
   },
   "outputs": [],
   "source": []
  }
 ],
 "metadata": {
  "kernelspec": {
   "display_name": "Python 3",
   "language": "python",
   "name": "python3"
  },
  "language_info": {
   "codemirror_mode": {
    "name": "ipython",
    "version": 3
   },
   "file_extension": ".py",
   "mimetype": "text/x-python",
   "name": "python",
   "nbconvert_exporter": "python",
   "pygments_lexer": "ipython3",
   "version": "3.6.2"
  }
 },
 "nbformat": 4,
 "nbformat_minor": 2
}
